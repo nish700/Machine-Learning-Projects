{
 "cells": [
  {
   "cell_type": "code",
   "execution_count": 1,
   "metadata": {},
   "outputs": [],
   "source": [
    "#Product size recommendation and fit prediction are critical in order to improve customers’ shopping experiences and to \n",
    "#reduce product return rates. However, modeling customers’ fit feedback is challenging due to its subtle semantics, \n",
    "#arising from the subjective evaluation of products and imbalanced label distribution (most of the feedbacks are \"Fit\").\n",
    "#As a data scientist our aim is to predict the customer satisfaction. The dataset contain imformation regarding clothes. \n",
    "#Each observation is different fitting size with various features.\n"
   ]
  },
  {
   "cell_type": "code",
   "execution_count": 2,
   "metadata": {},
   "outputs": [],
   "source": [
    "# import the libraries\n",
    "\n",
    "import pandas as pd\n",
    "import numpy as np\n",
    "import matplotlib.pyplot as plt\n",
    "from sklearn.model_selection import train_test_split\n",
    "import warnings\n",
    "warnings.filterwarnings('ignore')"
   ]
  },
  {
   "cell_type": "code",
   "execution_count": 3,
   "metadata": {},
   "outputs": [],
   "source": [
    "# path for the location of the data\n",
    "path = 'https://storage.googleapis.com/ga-codeblock-live-prod-live-data/account/b62/2a7f53f8-19f6-45c7-9d74-560da9338b1a/b34/a75ad91e-403c-4780-a385-af143204efe5/file.json'"
   ]
  },
  {
   "cell_type": "code",
   "execution_count": 4,
   "metadata": {},
   "outputs": [],
   "source": [
    "# loading the data using pandas read json function\n",
    "df = pd.read_json(path_or_buf = path, lines= True)"
   ]
  },
  {
   "cell_type": "code",
   "execution_count": 5,
   "metadata": {},
   "outputs": [
    {
     "name": "stdout",
     "output_type": "stream",
     "text": [
      "(82790, 18)\n",
      "bra size          float64\n",
      "bust               object\n",
      "category           object\n",
      "cup size           object\n",
      "fit                object\n",
      "height             object\n",
      "hips              float64\n",
      "item_id             int64\n",
      "length             object\n",
      "quality           float64\n",
      "review_summary     object\n",
      "review_text        object\n",
      "shoe size         float64\n",
      "shoe width         object\n",
      "size                int64\n",
      "user_id             int64\n",
      "user_name          object\n",
      "waist             float64\n",
      "dtype: object\n"
     ]
    }
   ],
   "source": [
    "# analysing the dataset \n",
    "print(df.shape)\n",
    "print(df.dtypes)"
   ]
  },
  {
   "cell_type": "code",
   "execution_count": 6,
   "metadata": {},
   "outputs": [
    {
     "data": {
      "text/html": [
       "<div>\n",
       "<style scoped>\n",
       "    .dataframe tbody tr th:only-of-type {\n",
       "        vertical-align: middle;\n",
       "    }\n",
       "\n",
       "    .dataframe tbody tr th {\n",
       "        vertical-align: top;\n",
       "    }\n",
       "\n",
       "    .dataframe thead th {\n",
       "        text-align: right;\n",
       "    }\n",
       "</style>\n",
       "<table border=\"1\" class=\"dataframe\">\n",
       "  <thead>\n",
       "    <tr style=\"text-align: right;\">\n",
       "      <th></th>\n",
       "      <th>bra size</th>\n",
       "      <th>hips</th>\n",
       "      <th>item_id</th>\n",
       "      <th>quality</th>\n",
       "      <th>shoe size</th>\n",
       "      <th>size</th>\n",
       "      <th>user_id</th>\n",
       "      <th>waist</th>\n",
       "    </tr>\n",
       "  </thead>\n",
       "  <tbody>\n",
       "    <tr>\n",
       "      <th>count</th>\n",
       "      <td>76772.000000</td>\n",
       "      <td>56064.000000</td>\n",
       "      <td>82790.000000</td>\n",
       "      <td>82722.000000</td>\n",
       "      <td>27915.000000</td>\n",
       "      <td>82790.000000</td>\n",
       "      <td>82790.000000</td>\n",
       "      <td>2882.000000</td>\n",
       "    </tr>\n",
       "    <tr>\n",
       "      <th>mean</th>\n",
       "      <td>35.972125</td>\n",
       "      <td>40.358501</td>\n",
       "      <td>469325.229170</td>\n",
       "      <td>3.949058</td>\n",
       "      <td>8.145818</td>\n",
       "      <td>12.661602</td>\n",
       "      <td>498849.564718</td>\n",
       "      <td>31.319223</td>\n",
       "    </tr>\n",
       "    <tr>\n",
       "      <th>std</th>\n",
       "      <td>3.224907</td>\n",
       "      <td>5.827166</td>\n",
       "      <td>213999.803314</td>\n",
       "      <td>0.992783</td>\n",
       "      <td>1.336109</td>\n",
       "      <td>8.271952</td>\n",
       "      <td>286356.969459</td>\n",
       "      <td>5.302849</td>\n",
       "    </tr>\n",
       "    <tr>\n",
       "      <th>min</th>\n",
       "      <td>28.000000</td>\n",
       "      <td>30.000000</td>\n",
       "      <td>123373.000000</td>\n",
       "      <td>1.000000</td>\n",
       "      <td>5.000000</td>\n",
       "      <td>0.000000</td>\n",
       "      <td>6.000000</td>\n",
       "      <td>20.000000</td>\n",
       "    </tr>\n",
       "    <tr>\n",
       "      <th>25%</th>\n",
       "      <td>34.000000</td>\n",
       "      <td>36.000000</td>\n",
       "      <td>314980.000000</td>\n",
       "      <td>3.000000</td>\n",
       "      <td>7.000000</td>\n",
       "      <td>8.000000</td>\n",
       "      <td>252897.750000</td>\n",
       "      <td>28.000000</td>\n",
       "    </tr>\n",
       "    <tr>\n",
       "      <th>50%</th>\n",
       "      <td>36.000000</td>\n",
       "      <td>39.000000</td>\n",
       "      <td>454030.000000</td>\n",
       "      <td>4.000000</td>\n",
       "      <td>8.000000</td>\n",
       "      <td>12.000000</td>\n",
       "      <td>497913.500000</td>\n",
       "      <td>30.000000</td>\n",
       "    </tr>\n",
       "    <tr>\n",
       "      <th>75%</th>\n",
       "      <td>38.000000</td>\n",
       "      <td>43.000000</td>\n",
       "      <td>658440.000000</td>\n",
       "      <td>5.000000</td>\n",
       "      <td>9.000000</td>\n",
       "      <td>15.000000</td>\n",
       "      <td>744745.250000</td>\n",
       "      <td>34.000000</td>\n",
       "    </tr>\n",
       "    <tr>\n",
       "      <th>max</th>\n",
       "      <td>48.000000</td>\n",
       "      <td>60.000000</td>\n",
       "      <td>807722.000000</td>\n",
       "      <td>5.000000</td>\n",
       "      <td>38.000000</td>\n",
       "      <td>38.000000</td>\n",
       "      <td>999972.000000</td>\n",
       "      <td>50.000000</td>\n",
       "    </tr>\n",
       "  </tbody>\n",
       "</table>\n",
       "</div>"
      ],
      "text/plain": [
       "           bra size          hips        item_id       quality     shoe size  \\\n",
       "count  76772.000000  56064.000000   82790.000000  82722.000000  27915.000000   \n",
       "mean      35.972125     40.358501  469325.229170      3.949058      8.145818   \n",
       "std        3.224907      5.827166  213999.803314      0.992783      1.336109   \n",
       "min       28.000000     30.000000  123373.000000      1.000000      5.000000   \n",
       "25%       34.000000     36.000000  314980.000000      3.000000      7.000000   \n",
       "50%       36.000000     39.000000  454030.000000      4.000000      8.000000   \n",
       "75%       38.000000     43.000000  658440.000000      5.000000      9.000000   \n",
       "max       48.000000     60.000000  807722.000000      5.000000     38.000000   \n",
       "\n",
       "               size        user_id        waist  \n",
       "count  82790.000000   82790.000000  2882.000000  \n",
       "mean      12.661602  498849.564718    31.319223  \n",
       "std        8.271952  286356.969459     5.302849  \n",
       "min        0.000000       6.000000    20.000000  \n",
       "25%        8.000000  252897.750000    28.000000  \n",
       "50%       12.000000  497913.500000    30.000000  \n",
       "75%       15.000000  744745.250000    34.000000  \n",
       "max       38.000000  999972.000000    50.000000  "
      ]
     },
     "execution_count": 6,
     "metadata": {},
     "output_type": "execute_result"
    }
   ],
   "source": [
    "# checking for the statistics of numerical columns, here we can see that the couple of columns have large number of missing values\n",
    "df.describe()"
   ]
  },
  {
   "cell_type": "code",
   "execution_count": 7,
   "metadata": {},
   "outputs": [],
   "source": [
    "# from the initial analysis we see that the column names have space between them , so we'll replace the spaces with _\n",
    "df.columns = df.columns.str.replace(\" \",'_')"
   ]
  },
  {
   "cell_type": "code",
   "execution_count": 8,
   "metadata": {},
   "outputs": [
    {
     "data": {
      "text/plain": [
       "bra_size           6018\n",
       "bust              70936\n",
       "category              0\n",
       "cup_size           6255\n",
       "fit                   0\n",
       "height             1107\n",
       "hips              26726\n",
       "item_id               0\n",
       "length               35\n",
       "quality              68\n",
       "review_summary     6725\n",
       "review_text        6725\n",
       "shoe_size         54875\n",
       "shoe_width        64183\n",
       "size                  0\n",
       "user_id               0\n",
       "user_name             0\n",
       "waist             79908\n",
       "dtype: int64"
      ]
     },
     "execution_count": 8,
     "metadata": {},
     "output_type": "execute_result"
    }
   ],
   "source": [
    "#checking for null values for all the feature using pandas isna() function\n",
    "df.isna().sum()"
   ]
  },
  {
   "cell_type": "code",
   "execution_count": 9,
   "metadata": {},
   "outputs": [
    {
     "name": "stdout",
     "output_type": "stream",
     "text": [
      "                null count  null percent\n",
      "bra_size              6018      7.268994\n",
      "bust                 70936     85.681846\n",
      "category                 0      0.000000\n",
      "cup_size              6255      7.555260\n",
      "fit                      0      0.000000\n",
      "height                1107      1.337118\n",
      "hips                 26726     32.281677\n",
      "item_id                  0      0.000000\n",
      "length                  35      0.042276\n",
      "quality                 68      0.082136\n",
      "review_summary        6725      8.122962\n",
      "review_text           6725      8.122962\n",
      "shoe_size            54875     66.282160\n",
      "shoe_width           64183     77.525063\n",
      "size                     0      0.000000\n",
      "user_id                  0      0.000000\n",
      "user_name                0      0.000000\n",
      "waist                79908     96.518903\n"
     ]
    }
   ],
   "source": [
    "# we see that a couple of columns(waist, shoe_width,shoe_size) have missing values, we would check the percentage of null values\n",
    "null_count = df.isna().sum()\n",
    "null_percent = (df.isna().sum()/df.shape[0])*100\n",
    "missing_data = pd.DataFrame({'null count': null_count,'null percent':null_percent})\n",
    "print(missing_data)"
   ]
  },
  {
   "cell_type": "code",
   "execution_count": 10,
   "metadata": {},
   "outputs": [],
   "source": [
    "# as we observed above bust,shoe_size,shoe_width, waist have large percentage of missing value. Also and user_name, review_summary, review_text are irrelevant fort the current goal , so we would remove the mentioned columns\n",
    "df.drop(columns=['bust','shoe_size','shoe_width','waist','user_name', 'review_summary','review_text'], axis=1 , inplace= True)"
   ]
  },
  {
   "cell_type": "code",
   "execution_count": 11,
   "metadata": {},
   "outputs": [],
   "source": [
    "# split the dataset into features and labels , fit being the target variable will not be present in X\n",
    "X = df.drop(columns=['fit'], axis=1)\n",
    "y = df['fit']"
   ]
  },
  {
   "cell_type": "code",
   "execution_count": 12,
   "metadata": {},
   "outputs": [],
   "source": [
    "# splitting the dataset into train and test set using train_test_split, random_state is taken to replicate the same result again,\n",
    "# as the function splits the dataset randomly , random state helps in generating the same split everytime\n",
    "X_train , X_test, y_train , y_test = train_test_split(X, y, random_state =6 , test_size = 0.33)"
   ]
  },
  {
   "cell_type": "code",
   "execution_count": 13,
   "metadata": {},
   "outputs": [
    {
     "name": "stdout",
     "output_type": "stream",
     "text": [
      "(55469, 10) (27321, 10) (55469,) (27321,)\n"
     ]
    }
   ],
   "source": [
    "# checking the shape of the splitted  train and test set\n",
    "print(X_train.shape, X_test.shape, y_train.shape, y_test.shape)"
   ]
  },
  {
   "cell_type": "code",
   "execution_count": 14,
   "metadata": {},
   "outputs": [],
   "source": [
    "#Category vs fit feedback\n",
    "##Here, we will visualize how the items of different categories fared in terms of - fit. This will tell us which categories need more attention! \n",
    "g_by_category = df.groupby(['category'])"
   ]
  },
  {
   "cell_type": "code",
   "execution_count": 15,
   "metadata": {},
   "outputs": [],
   "source": [
    "# value count of group by category based on fit\n",
    "cat_fit = g_by_category['fit'].value_counts()"
   ]
  },
  {
   "cell_type": "code",
   "execution_count": 16,
   "metadata": {},
   "outputs": [
    {
     "name": "stdout",
     "output_type": "stream",
     "text": [
      "category   fit  \n",
      "bottoms    fit      10660\n",
      "           small     2548\n",
      "           large     2058\n",
      "dresses    fit      13574\n",
      "           large     2562\n",
      "           small     2514\n",
      "new        fit      14423\n",
      "           small     4087\n",
      "           large     2978\n",
      "outerwear  fit       2793\n",
      "           large      816\n",
      "           small      614\n",
      "sale       fit       1590\n",
      "           small      500\n",
      "           large      434\n",
      "tops       fit      13498\n",
      "           large     4168\n",
      "           small     2698\n",
      "wedding    fit        219\n",
      "           large       43\n",
      "           small       13\n",
      "Name: fit, dtype: int64\n"
     ]
    }
   ],
   "source": [
    "# checking the cat_fit\n",
    "print(cat_fit)"
   ]
  },
  {
   "cell_type": "code",
   "execution_count": 17,
   "metadata": {},
   "outputs": [],
   "source": [
    "# function to plot horizontal bar graph\n",
    "def plot_barh(df,col, cmap = None, stacked=False, norm = None):\n",
    "    df.plot(kind='barh', colormap=cmap, stacked=stacked)\n",
    "    fig = plt.gcf()\n",
    "    fig.set_size_inches(24,12)\n",
    "    plt.title(\"Category vs {}-feedback -  cloth {}\".format(col, '(Normalized)' if norm else ''), fontsize= 20)\n",
    "    plt.ylabel('Category', fontsize = 18)\n",
    "    plot = plt.xlabel('Frequency', fontsize=18)"
   ]
  },
  {
   "cell_type": "code",
   "execution_count": 18,
   "metadata": {},
   "outputs": [],
   "source": [
    "# unstacking the table for visualization\n",
    "cat_fit = cat_fit.unstack()"
   ]
  },
  {
   "cell_type": "code",
   "execution_count": 19,
   "metadata": {},
   "outputs": [
    {
     "data": {
      "image/png": "[encoded data removed]",
      "text/plain": [
       "<matplotlib.figure.Figure at 0x248f4481320>"
      ]
     },
     "metadata": {},
     "output_type": "display_data"
    }
   ],
   "source": [
    "#plotting the category for fit\n",
    "\n",
    "plot_barh(cat_fit, cat_fit.columns)"
   ]
  },
  {
   "cell_type": "code",
   "execution_count": 20,
   "metadata": {},
   "outputs": [],
   "source": [
    "#Category vs Length\n",
    "#Here, we will visualize how the items of different length fared in terms of - fit. This will tell us which categories need more attention! \n",
    "cat_len = g_by_category['length'].value_counts()"
   ]
  },
  {
   "cell_type": "code",
   "execution_count": 21,
   "metadata": {},
   "outputs": [
    {
     "data": {
      "image/png": "[encoded data removed]",
      "text/plain": [
       "<matplotlib.figure.Figure at 0x248f448fb38>"
      ]
     },
     "metadata": {},
     "output_type": "display_data"
    }
   ],
   "source": [
    "#unstacking and plotting the category for fit\n",
    "cat_len = cat_len.unstack()\n",
    "\n",
    "plot_barh(cat_len, cat_len.columns)"
   ]
  },
  {
   "cell_type": "code",
   "execution_count": 22,
   "metadata": {},
   "outputs": [],
   "source": [
    "#Best length-fitting ('just right') belongs to tops, new, dresses and bottoms! (Also due to predominance of these categories in our total transactions- they make up almost 92% of our transactions!)\n",
    "# All transactions share a similar order of reasons for return (in the order of importance), which is kind of intuitive as well:\n",
    "# slightly long\n",
    "# slightly short\n",
    "# very long\n",
    "# very short"
   ]
  },
  {
   "cell_type": "code",
   "execution_count": 23,
   "metadata": {},
   "outputs": [],
   "source": [
    "# from the dataset we observe that the length is in feet, which needs to be converted to numerical value so that it can be passed \n",
    "# through the model. We will convert length in feet to cms. Below is the function to do the same.\n",
    "#Convert feet to centimeters\n",
    "def get_cms(x):\n",
    "    try:\n",
    "        if (len(x) > 3) :\n",
    "            return int(x[0])*30.48 + int(x[4:-2])*2.54\n",
    "        elif (len(x) > 1) :\n",
    "            return int(x[0])*30.48\n",
    "    except:\n",
    "        return x\n",
    "\n",
    "X_train.height = X_train.height.apply(get_cms)\n",
    "X_test.height = X_test.height.apply(get_cms)"
   ]
  },
  {
   "cell_type": "code",
   "execution_count": 24,
   "metadata": {},
   "outputs": [
    {
     "name": "stdout",
     "output_type": "stream",
     "text": [
      "8540     172.72\n",
      "30834    165.10\n",
      "6095     170.18\n",
      "14462    152.40\n",
      "37896    165.10\n",
      "Name: height, dtype: float64\n",
      "36962    167.64\n",
      "24517    162.56\n",
      "46688    182.88\n",
      "14851    175.26\n",
      "8526     157.48\n",
      "Name: height, dtype: float64\n"
     ]
    }
   ],
   "source": [
    "# verify the converion has been done\n",
    "print(X_train.height.head())\n",
    "print(X_test.height.head())"
   ]
  },
  {
   "cell_type": "code",
   "execution_count": 25,
   "metadata": {},
   "outputs": [
    {
     "name": "stdout",
     "output_type": "stream",
     "text": [
      "bra_size     3986\n",
      "category        0\n",
      "cup_size     4150\n",
      "height        728\n",
      "hips        17878\n",
      "item_id         0\n",
      "length         26\n",
      "quality        44\n",
      "size            0\n",
      "user_id         0\n",
      "dtype: int64\n",
      "bra_size    2032\n",
      "category       0\n",
      "cup_size    2105\n",
      "height       379\n",
      "hips        8848\n",
      "item_id        0\n",
      "length         9\n",
      "quality       24\n",
      "size           0\n",
      "user_id        0\n",
      "dtype: int64\n"
     ]
    }
   ],
   "source": [
    "#missing value imputation\n",
    "# checking for remaining missing values\n",
    "print(X_train.isna().sum())\n",
    "print(X_test.isna().sum())"
   ]
  },
  {
   "cell_type": "code",
   "execution_count": 26,
   "metadata": {},
   "outputs": [],
   "source": [
    "#Dealing with the missing value is very important. If the feature is having less number of missing value we will \n",
    "#remove the row which contain missing value. Also we are going to fill the null value of the numerical variable with \n",
    "#mean and replace the categorical missing values with mode."
   ]
  },
  {
   "cell_type": "code",
   "execution_count": 27,
   "metadata": {},
   "outputs": [],
   "source": [
    "# removing rows for columns with very less number of missing values\n",
    "X_train.dropna(axis=0,how='any',subset=['height','length','quality'], inplace=True)\n",
    "X_test.dropna(axis=0, how='any',subset=['height','length','quality'], inplace=True)"
   ]
  },
  {
   "cell_type": "code",
   "execution_count": 28,
   "metadata": {},
   "outputs": [],
   "source": [
    "# to be consistent in the records , index of only those should be present in labels for which records are there in the features\n",
    "# drop the index from y_train which is not contained in X_train and similarly for y_test\n",
    "y_train = y_train[y_train.index.isin(idx for idx in X_train.index)]\n",
    "y_test = y_test[y_test.index.isin(idx for idx in X_test.index)]"
   ]
  },
  {
   "cell_type": "code",
   "execution_count": 29,
   "metadata": {},
   "outputs": [
    {
     "data": {
      "text/plain": [
       "bra_size     3695\n",
       "category        0\n",
       "cup_size     3856\n",
       "height          0\n",
       "hips        17270\n",
       "item_id         0\n",
       "length          0\n",
       "quality         0\n",
       "size            0\n",
       "user_id         0\n",
       "dtype: int64"
      ]
     },
     "execution_count": 29,
     "metadata": {},
     "output_type": "execute_result"
    }
   ],
   "source": [
    "X_train.isna().sum()"
   ]
  },
  {
   "cell_type": "code",
   "execution_count": 30,
   "metadata": {},
   "outputs": [],
   "source": [
    "# we see that columns bra_size and hips have numerical values and we will use Imputer from sklearn to fill those"
   ]
  },
  {
   "cell_type": "code",
   "execution_count": 31,
   "metadata": {},
   "outputs": [],
   "source": [
    "# importing the Imputer \n",
    "from sklearn.preprocessing import Imputer"
   ]
  },
  {
   "cell_type": "code",
   "execution_count": 32,
   "metadata": {},
   "outputs": [],
   "source": [
    "# we will impute these missing numerical values by mean\n",
    "mean_imputer = Imputer(strategy = 'mean')\n",
    "\n",
    "# we fit and transform the train data , while we only transform the test data. Imputer should not be fitted upon by test data\n",
    "X_train[['bra_size']] = mean_imputer.fit_transform(X_train[['bra_size']])\n",
    "X_test[['bra_size']] = mean_imputer.transform(X_test[['bra_size']])\n",
    "\n",
    "# we fit and transform the train data , while we only transform the test data. Imputer should not be fitted upon by test data\n",
    "X_train[['hips']] = mean_imputer.fit_transform(X_train[['hips']])\n",
    "X_test[['hips']] = mean_imputer.transform(X_test[['hips']])"
   ]
  },
  {
   "cell_type": "code",
   "execution_count": 33,
   "metadata": {},
   "outputs": [],
   "source": [
    "# from the analysis we know that cup size has categorical values, we need to fill the missing value in categorical features with\n",
    "# the most frequent i.e mode "
   ]
  },
  {
   "cell_type": "code",
   "execution_count": 34,
   "metadata": {},
   "outputs": [
    {
     "name": "stdout",
     "output_type": "stream",
     "text": [
      "c         0.241731\n",
      "d         0.211195\n",
      "b         0.192287\n",
      "dd/e      0.162499\n",
      "ddd/f     0.079193\n",
      "a         0.061407\n",
      "dddd/g    0.026680\n",
      "h         0.013694\n",
      "aa        0.003817\n",
      "k         0.002656\n",
      "j         0.002499\n",
      "i         0.002341\n",
      "Name: cup_size, dtype: float64\n",
      "c         0.239197\n",
      "d         0.210294\n",
      "b         0.190652\n",
      "dd/e      0.165638\n",
      "ddd/f     0.080293\n",
      "a         0.064098\n",
      "dddd/g    0.025014\n",
      "h         0.013389\n",
      "aa        0.004049\n",
      "j         0.002846\n",
      "i         0.002445\n",
      "k         0.002085\n",
      "Name: cup_size, dtype: float64\n"
     ]
    }
   ],
   "source": [
    "# checking the frequency distribution for feature cup_size\n",
    "\n",
    "print(X_train['cup_size'].value_counts(normalize=True))\n",
    "print(X_test['cup_size'].value_counts(normalize=True))"
   ]
  },
  {
   "cell_type": "code",
   "execution_count": 35,
   "metadata": {},
   "outputs": [],
   "source": [
    "#find mode of cup size for train and test set \n",
    "\n",
    "mode_1 = X_train['cup_size'].mode()[0]\n",
    "mode_2 = X_test['cup_size'].mode()[0]"
   ]
  },
  {
   "cell_type": "code",
   "execution_count": 36,
   "metadata": {},
   "outputs": [],
   "source": [
    "# fill the NaN values with mode on train and test set\n",
    "\n",
    "X_train['cup_size'].fillna(value=mode_1, inplace=True)\n",
    "X_test['cup_size'].fillna(value=mode_2 , inplace = True)"
   ]
  },
  {
   "cell_type": "code",
   "execution_count": 37,
   "metadata": {},
   "outputs": [
    {
     "name": "stdout",
     "output_type": "stream",
     "text": [
      "bra_size    0\n",
      "category    0\n",
      "cup_size    0\n",
      "height      0\n",
      "hips        0\n",
      "item_id     0\n",
      "length      0\n",
      "quality     0\n",
      "size        0\n",
      "user_id     0\n",
      "dtype: int64\n",
      "bra_size    0\n",
      "category    0\n",
      "cup_size    0\n",
      "height      0\n",
      "hips        0\n",
      "item_id     0\n",
      "length      0\n",
      "quality     0\n",
      "size        0\n",
      "user_id     0\n",
      "dtype: int64\n"
     ]
    }
   ],
   "source": [
    "# verifying whether the above manipulations have resulted in zero null values\n",
    "\n",
    "print(X_train.isna().sum())\n",
    "print(X_test.isna().sum())"
   ]
  },
  {
   "cell_type": "code",
   "execution_count": 38,
   "metadata": {},
   "outputs": [],
   "source": [
    "# In the nex step , we are going to convert the categorical features to numerical one(one that the algorithm understands) using \n",
    "# one-hot encoding method "
   ]
  },
  {
   "cell_type": "code",
   "execution_count": 39,
   "metadata": {},
   "outputs": [
    {
     "name": "stdout",
     "output_type": "stream",
     "text": [
      "       bra_size category cup_size  height       hips  item_id         length  \\\n",
      "8540       32.0  dresses        b  172.72  38.000000   160625  slightly long   \n",
      "30834      34.0      new        b  165.10  35.000000   407044     just right   \n",
      "6095       36.0      new        d  170.18  45.000000   152513     just right   \n",
      "14462      32.0  dresses        d  152.40  37.000000   171740     just right   \n",
      "37896      42.0      new        c  165.10  40.364358   416942     just right   \n",
      "\n",
      "       quality  size  user_id  \n",
      "8540       5.0     3   276443  \n",
      "30834      2.0     8   980141  \n",
      "6095       2.0    15   682176  \n",
      "14462      4.0     7   459825  \n",
      "37896      4.0    26   151852  \n",
      "       bra_size category cup_size  height       hips  item_id      length  \\\n",
      "36962      34.0      new        c  167.64  35.000000   416738  just right   \n",
      "24517      36.0  dresses        b  162.56  34.000000   391519  just right   \n",
      "46688      44.0     tops        b  182.88  53.000000   503595  just right   \n",
      "14851      36.0  dresses        b  175.26  40.364358   175771  just right   \n",
      "8526       34.0  dresses     dd/e  157.48  40.364358   160625  just right   \n",
      "\n",
      "       quality  size  user_id  \n",
      "36962      4.0     4   456934  \n",
      "24517      3.0     8   975803  \n",
      "46688      2.0    32   180164  \n",
      "14851      4.0     1   807174  \n",
      "8526       5.0    13   974391  \n"
     ]
    }
   ],
   "source": [
    "#You can see that some of the features of category, cup_size and length in the data are textual in nature but any prediction model only work well in the numerical data so we need to convert that features into the numerical format.\n",
    "print(X_train.head())\n",
    "print(X_test.head())"
   ]
  },
  {
   "cell_type": "code",
   "execution_count": 40,
   "metadata": {},
   "outputs": [],
   "source": [
    "# Using the get_dummies function of pandas we can convert the categorical variables to one-hot coded columns,\n",
    "# the drop_first=True, removes the original columns\n",
    "\n",
    "X_train = pd.get_dummies(X_train,columns = ['category','cup_size','length'], drop_first= True)\n",
    "X_test = pd.get_dummies(X_test, columns=['category','cup_size','length'], drop_first = True)"
   ]
  },
  {
   "cell_type": "code",
   "execution_count": 41,
   "metadata": {},
   "outputs": [
    {
     "name": "stdout",
     "output_type": "stream",
     "text": [
      "       bra_size  height       hips  item_id  quality  size  user_id  \\\n",
      "8540       32.0  172.72  38.000000   160625      5.0     3   276443   \n",
      "30834      34.0  165.10  35.000000   407044      2.0     8   980141   \n",
      "6095       36.0  170.18  45.000000   152513      2.0    15   682176   \n",
      "14462      32.0  152.40  37.000000   171740      4.0     7   459825   \n",
      "37896      42.0  165.10  40.364358   416942      4.0    26   151852   \n",
      "\n",
      "       category_dresses  category_new  category_outerwear        ...          \\\n",
      "8540                  1             0                   0        ...           \n",
      "30834                 0             1                   0        ...           \n",
      "6095                  0             1                   0        ...           \n",
      "14462                 1             0                   0        ...           \n",
      "37896                 0             1                   0        ...           \n",
      "\n",
      "       cup_size_ddd/f  cup_size_dddd/g  cup_size_h  cup_size_i  cup_size_j  \\\n",
      "8540                0                0           0           0           0   \n",
      "30834               0                0           0           0           0   \n",
      "6095                0                0           0           0           0   \n",
      "14462               0                0           0           0           0   \n",
      "37896               0                0           0           0           0   \n",
      "\n",
      "       cup_size_k  length_slightly long  length_slightly short  \\\n",
      "8540            0                     1                      0   \n",
      "30834           0                     0                      0   \n",
      "6095            0                     0                      0   \n",
      "14462           0                     0                      0   \n",
      "37896           0                     0                      0   \n",
      "\n",
      "       length_very long  length_very short  \n",
      "8540                  0                  0  \n",
      "30834                 0                  0  \n",
      "6095                  0                  0  \n",
      "14462                 0                  0  \n",
      "37896                 0                  0  \n",
      "\n",
      "[5 rows x 28 columns]\n",
      "       bra_size  height       hips  item_id  quality  size  user_id  \\\n",
      "36962      34.0  167.64  35.000000   416738      4.0     4   456934   \n",
      "24517      36.0  162.56  34.000000   391519      3.0     8   975803   \n",
      "46688      44.0  182.88  53.000000   503595      2.0    32   180164   \n",
      "14851      36.0  175.26  40.364358   175771      4.0     1   807174   \n",
      "8526       34.0  157.48  40.364358   160625      5.0    13   974391   \n",
      "\n",
      "       category_dresses  category_new  category_outerwear        ...          \\\n",
      "36962                 0             1                   0        ...           \n",
      "24517                 1             0                   0        ...           \n",
      "46688                 0             0                   0        ...           \n",
      "14851                 1             0                   0        ...           \n",
      "8526                  1             0                   0        ...           \n",
      "\n",
      "       cup_size_ddd/f  cup_size_dddd/g  cup_size_h  cup_size_i  cup_size_j  \\\n",
      "36962               0                0           0           0           0   \n",
      "24517               0                0           0           0           0   \n",
      "46688               0                0           0           0           0   \n",
      "14851               0                0           0           0           0   \n",
      "8526                0                0           0           0           0   \n",
      "\n",
      "       cup_size_k  length_slightly long  length_slightly short  \\\n",
      "36962           0                     0                      0   \n",
      "24517           0                     0                      0   \n",
      "46688           0                     0                      0   \n",
      "14851           0                     0                      0   \n",
      "8526            0                     0                      0   \n",
      "\n",
      "       length_very long  length_very short  \n",
      "36962                 0                  0  \n",
      "24517                 0                  0  \n",
      "46688                 0                  0  \n",
      "14851                 0                  0  \n",
      "8526                  0                  0  \n",
      "\n",
      "[5 rows x 28 columns]\n"
     ]
    }
   ],
   "source": [
    "# to verify the columns have been one-hot encoded\n",
    "\n",
    "print(X_train.head())\n",
    "print(X_test.head())"
   ]
  },
  {
   "cell_type": "code",
   "execution_count": 42,
   "metadata": {},
   "outputs": [],
   "source": [
    "# Now , the data is cleaned and pre-processing done . We will now move to the next step, the easy one.\n",
    "# Here we will build the model and actually do the prediction of Customer Satisfaction using Decision Tree Classifier "
   ]
  },
  {
   "cell_type": "code",
   "execution_count": 43,
   "metadata": {},
   "outputs": [],
   "source": [
    "# importing the necessary libraries to build the Decision Tree Model\n",
    "\n",
    "from sklearn.tree import DecisionTreeClassifier\n",
    "from sklearn.metrics import accuracy_score, precision_score"
   ]
  },
  {
   "cell_type": "code",
   "execution_count": 44,
   "metadata": {},
   "outputs": [],
   "source": [
    "# initialize the decisiontreeclassifier, define a random state to replicate the results\n",
    "\n",
    "model = DecisionTreeClassifier(random_state=6)"
   ]
  },
  {
   "cell_type": "code",
   "execution_count": 45,
   "metadata": {},
   "outputs": [
    {
     "data": {
      "text/plain": [
       "DecisionTreeClassifier(class_weight=None, criterion='gini', max_depth=None,\n",
       "            max_features=None, max_leaf_nodes=None,\n",
       "            min_impurity_decrease=0.0, min_impurity_split=None,\n",
       "            min_samples_leaf=1, min_samples_split=2,\n",
       "            min_weight_fraction_leaf=0.0, presort=False, random_state=6,\n",
       "            splitter='best')"
      ]
     },
     "execution_count": 45,
     "metadata": {},
     "output_type": "execute_result"
    }
   ],
   "source": [
    "# fit the model to train data\n",
    "model.fit(X_train, y_train)"
   ]
  },
  {
   "cell_type": "code",
   "execution_count": 46,
   "metadata": {},
   "outputs": [],
   "source": [
    "# predict the output \n",
    "y_pred = model.predict(X_test)"
   ]
  },
  {
   "cell_type": "code",
   "execution_count": 47,
   "metadata": {},
   "outputs": [
    {
     "name": "stdout",
     "output_type": "stream",
     "text": [
      "0.5795340541745625\n"
     ]
    }
   ],
   "source": [
    "# calculate the accuracy score \n",
    "score = accuracy_score(y_pred, y_test)\n",
    "print(score)"
   ]
  },
  {
   "cell_type": "code",
   "execution_count": 48,
   "metadata": {},
   "outputs": [
    {
     "name": "stdout",
     "output_type": "stream",
     "text": [
      "[0.72922923 0.28708454 0.26910971]\n"
     ]
    }
   ],
   "source": [
    "# The precision is the ratio tp / (tp + fp) where tp is the number of true positives and fp the number of false positives. \n",
    "#The precision is intuitively the ability of the classifier not to label as positive a sample that is negative.\n",
    "# The best value is 1 and the worst value is 0.\n",
    "\n",
    "precision = precision_score(y_test, y_pred, average= None)\n",
    "#If None in average , the scores for each class are returned.\n",
    "print(precision)"
   ]
  },
  {
   "cell_type": "code",
   "execution_count": 49,
   "metadata": {},
   "outputs": [],
   "source": [
    "# Now We will select best model by cross-validation using Grid Search. We will not allow the tree to grow infinite and prune the\n",
    "# tree, also defining the min sample leaf after which no splitting will take place. This would help in avoiding over fitting . \n",
    "# As we seen above , the model gives poor accuracy for test data, a major cause for it is overfitting. In Overfitting , \n",
    "# the model performs well on train data but performs very poor on unseen data(test data). To avoid this, we prune the tree"
   ]
  },
  {
   "cell_type": "code",
   "execution_count": 50,
   "metadata": {},
   "outputs": [],
   "source": [
    "# importing Gridsearchcv from sklearn\n",
    "\n",
    "from sklearn.model_selection import GridSearchCV"
   ]
  },
  {
   "cell_type": "code",
   "execution_count": 51,
   "metadata": {},
   "outputs": [],
   "source": [
    "# defining the parameters for grid search , here we are limiting the max depth of the tree and also defining the critierion for \n",
    "# splitting \n",
    "parameters = {'max_depth':[5,10],'criterion':['gini','entropy'],'min_samples_leaf':[0.5,1]}"
   ]
  },
  {
   "cell_type": "code",
   "execution_count": 52,
   "metadata": {},
   "outputs": [],
   "source": [
    "# instantiate the model\n",
    "model_2 = DecisionTreeClassifier(random_state=6)"
   ]
  },
  {
   "cell_type": "code",
   "execution_count": 53,
   "metadata": {},
   "outputs": [],
   "source": [
    "# initialize the GridSearchCV\n",
    "grid = GridSearchCV(estimator=model_2, param_grid= parameters)"
   ]
  },
  {
   "cell_type": "code",
   "execution_count": 54,
   "metadata": {},
   "outputs": [
    {
     "data": {
      "text/plain": [
       "GridSearchCV(cv=None, error_score='raise',\n",
       "       estimator=DecisionTreeClassifier(class_weight=None, criterion='gini', max_depth=None,\n",
       "            max_features=None, max_leaf_nodes=None,\n",
       "            min_impurity_decrease=0.0, min_impurity_split=None,\n",
       "            min_samples_leaf=1, min_samples_split=2,\n",
       "            min_weight_fraction_leaf=0.0, presort=False, random_state=6,\n",
       "            splitter='best'),\n",
       "       fit_params=None, iid=True, n_jobs=1,\n",
       "       param_grid={'max_depth': [5, 10], 'criterion': ['gini', 'entropy'], 'min_samples_leaf': [0.5, 1]},\n",
       "       pre_dispatch='2*n_jobs', refit=True, return_train_score='warn',\n",
       "       scoring=None, verbose=0)"
      ]
     },
     "execution_count": 54,
     "metadata": {},
     "output_type": "execute_result"
    }
   ],
   "source": [
    "# fit to training data\n",
    "grid.fit(X_train, y_train)"
   ]
  },
  {
   "cell_type": "code",
   "execution_count": 55,
   "metadata": {},
   "outputs": [],
   "source": [
    "#predict the output\n",
    "y_pred = grid.predict(X_test)"
   ]
  },
  {
   "cell_type": "code",
   "execution_count": 56,
   "metadata": {},
   "outputs": [
    {
     "name": "stdout",
     "output_type": "stream",
     "text": [
      "0.6986957975699476\n"
     ]
    }
   ],
   "source": [
    "#calculate the accuracy score\n",
    "score_2 = grid.score(X_test, y_test)\n",
    "print(score_2)"
   ]
  },
  {
   "cell_type": "code",
   "execution_count": 57,
   "metadata": {},
   "outputs": [],
   "source": [
    "# as seen above , the accuracy of the model improves from a meagre 58% to 70% by controlling the tree from growing unlimited. \n",
    "# So we need to check the growth of DecisonTree and avoid overfitting to get a better model.\n",
    "# We can furthur increase the accuracy by varying the minimum sample leaf and max depth"
   ]
  }
 ],
 "metadata": {
  "kernelspec": {
   "display_name": "Python 3",
   "language": "python",
   "name": "python3"
  },
  "language_info": {
   "codemirror_mode": {
    "name": "ipython",
    "version": 3
   },
   "file_extension": ".py",
   "mimetype": "text/x-python",
   "name": "python",
   "nbconvert_exporter": "python",
   "pygments_lexer": "ipython3",
   "version": "3.6.4"
  }
 },
 "nbformat": 4,
 "nbformat_minor": 2
}
