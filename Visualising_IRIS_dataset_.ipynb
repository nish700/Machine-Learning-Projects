{
  "nbformat": 4,
  "nbformat_minor": 0,
  "metadata": {
    "colab": {
      "name": "Visualising_IRIS_dataset .ipynb",
      "version": "0.3.2",
      "provenance": [],
      "collapsed_sections": []
    },
    "kernelspec": {
      "name": "python3",
      "display_name": "Python 3"
    }
  },
  "cells": [
    {
      "cell_type": "markdown",
      "metadata": {
        "id": "BOsKHsFS7n58",
        "colab_type": "text"
      },
      "source": [
        "# Iris dataset visualization\n"
      ]
    },
    {
      "cell_type": "markdown",
      "metadata": {
        "id": "U1tHZt1T8RqR",
        "colab_type": "text"
      },
      "source": [
        "##Import Libraries"
      ]
    },
    {
      "cell_type": "code",
      "metadata": {
        "id": "_Kk77vZo75Oh",
        "colab_type": "code",
        "colab": {}
      },
      "source": [
        "import pandas as pd\n",
        "import numpy as np\n",
        "from sklearn.decomposition import PCA\n",
        "import matplotlib.pyplot as plt\n",
        "from mpl_toolkits.mplot3d import Axes3D\n",
        "import matplotlib.colors"
      ],
      "execution_count": 0,
      "outputs": []
    },
    {
      "cell_type": "markdown",
      "metadata": {
        "id": "xVjPG_gb70tZ",
        "colab_type": "text"
      },
      "source": [
        "## Data loading and preprocessing"
      ]
    },
    {
      "cell_type": "code",
      "metadata": {
        "id": "MWC6p03j8CB9",
        "colab_type": "code",
        "colab": {}
      },
      "source": [
        "data = pd.read_csv('Iris.csv')"
      ],
      "execution_count": 0,
      "outputs": []
    },
    {
      "cell_type": "code",
      "metadata": {
        "id": "D0VMC8Fh8f3L",
        "colab_type": "code",
        "outputId": "9c689ff8-0d02-4a2e-bfb7-f5b0fc979c25",
        "colab": {
          "base_uri": "https://localhost:8080/",
          "height": 194
        }
      },
      "source": [
        "data.head()"
      ],
      "execution_count": 9,
      "outputs": [
        {
          "output_type": "execute_result",
          "data": {
            "text/html": [
              "<div>\n",
              "<style scoped>\n",
              "    .dataframe tbody tr th:only-of-type {\n",
              "        vertical-align: middle;\n",
              "    }\n",
              "\n",
              "    .dataframe tbody tr th {\n",
              "        vertical-align: top;\n",
              "    }\n",
              "\n",
              "    .dataframe thead th {\n",
              "        text-align: right;\n",
              "    }\n",
              "</style>\n",
              "<table border=\"1\" class=\"dataframe\">\n",
              "  <thead>\n",
              "    <tr style=\"text-align: right;\">\n",
              "      <th></th>\n",
              "      <th>Id</th>\n",
              "      <th>SepalLengthCm</th>\n",
              "      <th>SepalWidthCm</th>\n",
              "      <th>PetalLengthCm</th>\n",
              "      <th>PetalWidthCm</th>\n",
              "      <th>Species</th>\n",
              "    </tr>\n",
              "  </thead>\n",
              "  <tbody>\n",
              "    <tr>\n",
              "      <th>0</th>\n",
              "      <td>1</td>\n",
              "      <td>5.1</td>\n",
              "      <td>3.5</td>\n",
              "      <td>1.4</td>\n",
              "      <td>0.2</td>\n",
              "      <td>Iris-setosa</td>\n",
              "    </tr>\n",
              "    <tr>\n",
              "      <th>1</th>\n",
              "      <td>2</td>\n",
              "      <td>4.9</td>\n",
              "      <td>3.0</td>\n",
              "      <td>1.4</td>\n",
              "      <td>0.2</td>\n",
              "      <td>Iris-setosa</td>\n",
              "    </tr>\n",
              "    <tr>\n",
              "      <th>2</th>\n",
              "      <td>3</td>\n",
              "      <td>4.7</td>\n",
              "      <td>3.2</td>\n",
              "      <td>1.3</td>\n",
              "      <td>0.2</td>\n",
              "      <td>Iris-setosa</td>\n",
              "    </tr>\n",
              "    <tr>\n",
              "      <th>3</th>\n",
              "      <td>4</td>\n",
              "      <td>4.6</td>\n",
              "      <td>3.1</td>\n",
              "      <td>1.5</td>\n",
              "      <td>0.2</td>\n",
              "      <td>Iris-setosa</td>\n",
              "    </tr>\n",
              "    <tr>\n",
              "      <th>4</th>\n",
              "      <td>5</td>\n",
              "      <td>5.0</td>\n",
              "      <td>3.6</td>\n",
              "      <td>1.4</td>\n",
              "      <td>0.2</td>\n",
              "      <td>Iris-setosa</td>\n",
              "    </tr>\n",
              "  </tbody>\n",
              "</table>\n",
              "</div>"
            ],
            "text/plain": [
              "   Id  SepalLengthCm  SepalWidthCm  PetalLengthCm  PetalWidthCm      Species\n",
              "0   1            5.1           3.5            1.4           0.2  Iris-setosa\n",
              "1   2            4.9           3.0            1.4           0.2  Iris-setosa\n",
              "2   3            4.7           3.2            1.3           0.2  Iris-setosa\n",
              "3   4            4.6           3.1            1.5           0.2  Iris-setosa\n",
              "4   5            5.0           3.6            1.4           0.2  Iris-setosa"
            ]
          },
          "metadata": {
            "tags": []
          },
          "execution_count": 9
        }
      ]
    },
    {
      "cell_type": "code",
      "metadata": {
        "id": "iRAdB8qk6i4N",
        "colab_type": "code",
        "outputId": "1ca2cde8-4e01-494e-c890-924691b5b91d",
        "colab": {
          "base_uri": "https://localhost:8080/",
          "height": 282
        }
      },
      "source": [
        "data.describe()"
      ],
      "execution_count": 10,
      "outputs": [
        {
          "output_type": "execute_result",
          "data": {
            "text/html": [
              "<div>\n",
              "<style scoped>\n",
              "    .dataframe tbody tr th:only-of-type {\n",
              "        vertical-align: middle;\n",
              "    }\n",
              "\n",
              "    .dataframe tbody tr th {\n",
              "        vertical-align: top;\n",
              "    }\n",
              "\n",
              "    .dataframe thead th {\n",
              "        text-align: right;\n",
              "    }\n",
              "</style>\n",
              "<table border=\"1\" class=\"dataframe\">\n",
              "  <thead>\n",
              "    <tr style=\"text-align: right;\">\n",
              "      <th></th>\n",
              "      <th>Id</th>\n",
              "      <th>SepalLengthCm</th>\n",
              "      <th>SepalWidthCm</th>\n",
              "      <th>PetalLengthCm</th>\n",
              "      <th>PetalWidthCm</th>\n",
              "    </tr>\n",
              "  </thead>\n",
              "  <tbody>\n",
              "    <tr>\n",
              "      <th>count</th>\n",
              "      <td>150.000000</td>\n",
              "      <td>150.000000</td>\n",
              "      <td>150.000000</td>\n",
              "      <td>150.000000</td>\n",
              "      <td>150.000000</td>\n",
              "    </tr>\n",
              "    <tr>\n",
              "      <th>mean</th>\n",
              "      <td>75.500000</td>\n",
              "      <td>5.843333</td>\n",
              "      <td>3.054000</td>\n",
              "      <td>3.758667</td>\n",
              "      <td>1.198667</td>\n",
              "    </tr>\n",
              "    <tr>\n",
              "      <th>std</th>\n",
              "      <td>43.445368</td>\n",
              "      <td>0.828066</td>\n",
              "      <td>0.433594</td>\n",
              "      <td>1.764420</td>\n",
              "      <td>0.763161</td>\n",
              "    </tr>\n",
              "    <tr>\n",
              "      <th>min</th>\n",
              "      <td>1.000000</td>\n",
              "      <td>4.300000</td>\n",
              "      <td>2.000000</td>\n",
              "      <td>1.000000</td>\n",
              "      <td>0.100000</td>\n",
              "    </tr>\n",
              "    <tr>\n",
              "      <th>25%</th>\n",
              "      <td>38.250000</td>\n",
              "      <td>5.100000</td>\n",
              "      <td>2.800000</td>\n",
              "      <td>1.600000</td>\n",
              "      <td>0.300000</td>\n",
              "    </tr>\n",
              "    <tr>\n",
              "      <th>50%</th>\n",
              "      <td>75.500000</td>\n",
              "      <td>5.800000</td>\n",
              "      <td>3.000000</td>\n",
              "      <td>4.350000</td>\n",
              "      <td>1.300000</td>\n",
              "    </tr>\n",
              "    <tr>\n",
              "      <th>75%</th>\n",
              "      <td>112.750000</td>\n",
              "      <td>6.400000</td>\n",
              "      <td>3.300000</td>\n",
              "      <td>5.100000</td>\n",
              "      <td>1.800000</td>\n",
              "    </tr>\n",
              "    <tr>\n",
              "      <th>max</th>\n",
              "      <td>150.000000</td>\n",
              "      <td>7.900000</td>\n",
              "      <td>4.400000</td>\n",
              "      <td>6.900000</td>\n",
              "      <td>2.500000</td>\n",
              "    </tr>\n",
              "  </tbody>\n",
              "</table>\n",
              "</div>"
            ],
            "text/plain": [
              "               Id  SepalLengthCm  SepalWidthCm  PetalLengthCm  PetalWidthCm\n",
              "count  150.000000     150.000000    150.000000     150.000000    150.000000\n",
              "mean    75.500000       5.843333      3.054000       3.758667      1.198667\n",
              "std     43.445368       0.828066      0.433594       1.764420      0.763161\n",
              "min      1.000000       4.300000      2.000000       1.000000      0.100000\n",
              "25%     38.250000       5.100000      2.800000       1.600000      0.300000\n",
              "50%     75.500000       5.800000      3.000000       4.350000      1.300000\n",
              "75%    112.750000       6.400000      3.300000       5.100000      1.800000\n",
              "max    150.000000       7.900000      4.400000       6.900000      2.500000"
            ]
          },
          "metadata": {
            "tags": []
          },
          "execution_count": 10
        }
      ]
    },
    {
      "cell_type": "code",
      "metadata": {
        "id": "HhAa8-QR8kqs",
        "colab_type": "code",
        "colab": {}
      },
      "source": [
        "X = data.drop(['Id','Species'],axis=1)\n",
        "Y = data['Species']"
      ],
      "execution_count": 0,
      "outputs": []
    },
    {
      "cell_type": "code",
      "metadata": {
        "id": "WkOZMZPA4A2w",
        "colab_type": "code",
        "colab": {}
      },
      "source": [
        "Y = Y.astype('category').cat.codes\n",
        "#since Y are categorical values , convertign them to numerical for plotting\n",
        "#'Iris-setosa'--> 0,'Iris-versicolor'-->1,'Iris-virginica'-->2"
      ],
      "execution_count": 0,
      "outputs": []
    },
    {
      "cell_type": "code",
      "metadata": {
        "id": "Vw5JKsV_82Rt",
        "colab_type": "code",
        "outputId": "4a75e742-385c-4f41-8bcb-e2030d523ef3",
        "colab": {
          "base_uri": "https://localhost:8080/",
          "height": 248
        }
      },
      "source": [
        "print(X.shape,Y.shape)\n",
        "print(X.head())\n",
        "print(Y.head())"
      ],
      "execution_count": 13,
      "outputs": [
        {
          "output_type": "stream",
          "text": [
            "(150, 4) (150,)\n",
            "   SepalLengthCm  SepalWidthCm  PetalLengthCm  PetalWidthCm\n",
            "0            5.1           3.5            1.4           0.2\n",
            "1            4.9           3.0            1.4           0.2\n",
            "2            4.7           3.2            1.3           0.2\n",
            "3            4.6           3.1            1.5           0.2\n",
            "4            5.0           3.6            1.4           0.2\n",
            "0    0\n",
            "1    0\n",
            "2    0\n",
            "3    0\n",
            "4    0\n",
            "dtype: int8\n"
          ],
          "name": "stdout"
        }
      ]
    },
    {
      "cell_type": "markdown",
      "metadata": {
        "id": "s_CMLKOi7-ku",
        "colab_type": "text"
      },
      "source": [
        "## Dimensionality reduction"
      ]
    },
    {
      "cell_type": "code",
      "metadata": {
        "id": "-ge0KYbT8RXU",
        "colab_type": "code",
        "colab": {}
      },
      "source": [
        "#applying dimensionality reduction to the features to project them to a lower dimension\n",
        "pca = PCA(n_components=3)"
      ],
      "execution_count": 0,
      "outputs": []
    },
    {
      "cell_type": "code",
      "metadata": {
        "id": "5Kl9mmck8Xbn",
        "colab_type": "code",
        "outputId": "6c877800-0c7d-426c-9e0f-acba72be98f0",
        "colab": {
          "base_uri": "https://localhost:8080/",
          "height": 52
        }
      },
      "source": [
        "pca.fit(X)"
      ],
      "execution_count": 15,
      "outputs": [
        {
          "output_type": "execute_result",
          "data": {
            "text/plain": [
              "PCA(copy=True, iterated_power='auto', n_components=3, random_state=None,\n",
              "  svd_solver='auto', tol=0.0, whiten=False)"
            ]
          },
          "metadata": {
            "tags": []
          },
          "execution_count": 15
        }
      ]
    },
    {
      "cell_type": "code",
      "metadata": {
        "id": "Br1zed6m-_ud",
        "colab_type": "code",
        "outputId": "3aab91bb-fb4c-4efe-aed7-7d1143d3682f",
        "colab": {
          "base_uri": "https://localhost:8080/",
          "height": 35
        }
      },
      "source": [
        "print(pca.explained_variance_ratio_)"
      ],
      "execution_count": 16,
      "outputs": [
        {
          "output_type": "stream",
          "text": [
            "[0.92461621 0.05301557 0.01718514]\n"
          ],
          "name": "stdout"
        }
      ]
    },
    {
      "cell_type": "code",
      "metadata": {
        "id": "wAbeYWNI_RlL",
        "colab_type": "code",
        "outputId": "f5605299-7d37-44ef-b1f7-3bcbe9d23210",
        "colab": {
          "base_uri": "https://localhost:8080/",
          "height": 35
        }
      },
      "source": [
        "print(pca.singular_values_)"
      ],
      "execution_count": 17,
      "outputs": [
        {
          "output_type": "stream",
          "text": [
            "[25.08986398  6.00785254  3.42053538]\n"
          ],
          "name": "stdout"
        }
      ]
    },
    {
      "cell_type": "code",
      "metadata": {
        "id": "pI4SPPNXB3Eb",
        "colab_type": "code",
        "outputId": "74aa26da-cbde-4827-be8c-786dff8d1592",
        "colab": {
          "base_uri": "https://localhost:8080/",
          "height": 2684
        }
      },
      "source": [
        "X_tran = pca.transform(X)\n",
        "print(X_tran)"
      ],
      "execution_count": 18,
      "outputs": [
        {
          "output_type": "stream",
          "text": [
            "[[-2.68420713  0.32660731 -0.02151184]\n",
            " [-2.71539062 -0.16955685 -0.20352143]\n",
            " [-2.88981954 -0.13734561  0.02470924]\n",
            " [-2.7464372  -0.31112432  0.03767198]\n",
            " [-2.72859298  0.33392456  0.0962297 ]\n",
            " [-2.27989736  0.74778271  0.17432562]\n",
            " [-2.82089068 -0.08210451  0.26425109]\n",
            " [-2.62648199  0.17040535 -0.01580151]\n",
            " [-2.88795857 -0.57079803  0.02733541]\n",
            " [-2.67384469 -0.1066917  -0.1915333 ]\n",
            " [-2.50652679  0.65193501 -0.069275  ]\n",
            " [-2.61314272  0.02152063  0.10765035]\n",
            " [-2.78743398 -0.22774019 -0.20032779]\n",
            " [-3.22520045 -0.50327991  0.06841363]\n",
            " [-2.64354322  1.1861949  -0.1445057 ]\n",
            " [-2.38386932  1.34475434  0.28373066]\n",
            " [-2.6225262   0.81808967  0.14531599]\n",
            " [-2.64832273  0.31913667  0.03339425]\n",
            " [-2.19907796  0.87924409 -0.11452146]\n",
            " [-2.58734619  0.52047364  0.21957209]\n",
            " [-2.3105317   0.39786782 -0.23369561]\n",
            " [-2.54323491  0.44003175  0.21483637]\n",
            " [-3.21585769  0.14161557  0.29961898]\n",
            " [-2.30312854  0.10552268  0.04568004]\n",
            " [-2.35617109 -0.03120959  0.12940758]\n",
            " [-2.50791723 -0.13905634 -0.24711634]\n",
            " [-2.469056    0.13788731  0.10126308]\n",
            " [-2.56239095  0.37468456 -0.07235916]\n",
            " [-2.63982127  0.31929007 -0.13925337]\n",
            " [-2.63284791 -0.19007583  0.04646646]\n",
            " [-2.58846205 -0.19739308 -0.07127507]\n",
            " [-2.41007734  0.41808001 -0.13838824]\n",
            " [-2.64763667  0.81998263  0.2305856 ]\n",
            " [-2.59715948  1.10002193  0.16358191]\n",
            " [-2.67384469 -0.1066917  -0.1915333 ]\n",
            " [-2.86699985  0.0771931  -0.15684235]\n",
            " [-2.62522846  0.60680001 -0.26116316]\n",
            " [-2.67384469 -0.1066917  -0.1915333 ]\n",
            " [-2.98184266 -0.48025005  0.07972481]\n",
            " [-2.59032303  0.23605934 -0.07390124]\n",
            " [-2.77013891  0.27105942  0.08424157]\n",
            " [-2.85221108 -0.93286537 -0.34096149]\n",
            " [-2.99829644 -0.33430757  0.19900842]\n",
            " [-2.4055141   0.19591726  0.27071707]\n",
            " [-2.20883295  0.44269603  0.30348781]\n",
            " [-2.71566519 -0.24268148 -0.09051561]\n",
            " [-2.53757337  0.51036755  0.1719184 ]\n",
            " [-2.8403213  -0.22057634  0.09006138]\n",
            " [-2.54268576  0.58628103 -0.01117527]\n",
            " [-2.70391231  0.11501085 -0.08269573]\n",
            " [ 1.28479459  0.68543919 -0.40612955]\n",
            " [ 0.93241075  0.31919809 -0.01712991]\n",
            " [ 1.46406132  0.50418983 -0.33826073]\n",
            " [ 0.18096721 -0.82560394 -0.17708286]\n",
            " [ 1.08713449  0.07539039 -0.30654446]\n",
            " [ 0.64043675 -0.41732348  0.04118877]\n",
            " [ 1.09522371  0.28389121  0.17002253]\n",
            " [-0.75146714 -1.00110751  0.01567219]\n",
            " [ 1.04329778  0.22895691 -0.41481457]\n",
            " [-0.01019007 -0.72057487  0.28343725]\n",
            " [-0.5110862  -1.26249195 -0.26648995]\n",
            " [ 0.51109806 -0.10228411  0.13232789]\n",
            " [ 0.26233576 -0.5478933  -0.69194158]\n",
            " [ 0.98404455 -0.12436042 -0.06215743]\n",
            " [-0.174864   -0.25181557  0.09365864]\n",
            " [ 0.92757294  0.46823621 -0.3132294 ]\n",
            " [ 0.65959279 -0.35197629  0.3283843 ]\n",
            " [ 0.23454059 -0.33192183 -0.27028067]\n",
            " [ 0.94236171 -0.54182226 -0.49734854]\n",
            " [ 0.0432464  -0.58148945 -0.23296356]\n",
            " [ 1.11624072 -0.08421401  0.45984423]\n",
            " [ 0.35678657 -0.06682383 -0.22747218]\n",
            " [ 1.29646885 -0.32756152 -0.34751321]\n",
            " [ 0.92050265 -0.18239036 -0.23161142]\n",
            " [ 0.71400821  0.15037915 -0.32037233]\n",
            " [ 0.89964086  0.32961098 -0.31477148]\n",
            " [ 1.33104142  0.24466952 -0.52124492]\n",
            " [ 1.55739627  0.26739258 -0.16463849]\n",
            " [ 0.81245555 -0.16233157  0.03634358]\n",
            " [-0.30733476 -0.36508661 -0.3153372 ]\n",
            " [-0.07034289 -0.70253793 -0.24175804]\n",
            " [-0.19188449 -0.67749054 -0.30391654]\n",
            " [ 0.13499495 -0.31170964 -0.1749733 ]\n",
            " [ 1.37873698 -0.42120514  0.0154805 ]\n",
            " [ 0.58727485 -0.48328427  0.44458375]\n",
            " [ 0.8072055   0.19505396  0.38945871]\n",
            " [ 1.22042897  0.40803534 -0.23656609]\n",
            " [ 0.81286779 -0.370679   -0.61287105]\n",
            " [ 0.24519516 -0.26672804  0.18956248]\n",
            " [ 0.16451343 -0.67966147 -0.05779924]\n",
            " [ 0.46303099 -0.66952655 -0.02405389]\n",
            " [ 0.89016045 -0.03381244 -0.00976803]\n",
            " [ 0.22887905 -0.40225762 -0.22736271]\n",
            " [-0.70708128 -1.00842476 -0.10206934]\n",
            " [ 0.35553304 -0.50321849  0.01788947]\n",
            " [ 0.33112695 -0.21118014  0.08380907]\n",
            " [ 0.37523823 -0.29162202  0.07907336]\n",
            " [ 0.64169028  0.01907118 -0.20417288]\n",
            " [-0.90846333 -0.75156873 -0.00773658]\n",
            " [ 0.29780791 -0.34701652  0.01217914]\n",
            " [ 2.53172698 -0.01184224  0.75845865]\n",
            " [ 1.41407223 -0.57492506  0.29639822]\n",
            " [ 2.61648461  0.34193529 -0.11214137]\n",
            " [ 1.97081495 -0.18112569  0.10653915]\n",
            " [ 2.34975798 -0.04188255  0.28411068]\n",
            " [ 3.39687992  0.54716805 -0.35187316]\n",
            " [ 0.51938325 -1.19135169  0.54668553]\n",
            " [ 2.9320051   0.35237701 -0.42369128]\n",
            " [ 2.31967279 -0.24554817 -0.34992218]\n",
            " [ 2.91813423  0.78038063  0.42173893]\n",
            " [ 1.66193495  0.2420384   0.24281526]\n",
            " [ 1.80234045 -0.21615461 -0.03769533]\n",
            " [ 2.16537886  0.21528028  0.03314818]\n",
            " [ 1.34459422 -0.77641543  0.28286802]\n",
            " [ 1.5852673  -0.53930705  0.63057049]\n",
            " [ 1.90474358  0.11881899  0.48013808]\n",
            " [ 1.94924878  0.04073026  0.04272909]\n",
            " [ 3.48876538  1.17154454  0.12932008]\n",
            " [ 3.79468686  0.25326557 -0.51697072]\n",
            " [ 1.29832982 -0.76101394 -0.34488705]\n",
            " [ 2.42816726  0.37678197  0.21864907]\n",
            " [ 1.19809737 -0.60557896  0.51264077]\n",
            " [ 3.49926548  0.45677347 -0.57691019]\n",
            " [ 1.38766825 -0.20403099 -0.06351132]\n",
            " [ 2.27585365  0.33338653  0.28467815]\n",
            " [ 2.61419383  0.55836695 -0.20842335]\n",
            " [ 1.25762518 -0.179137    0.04697781]\n",
            " [ 1.29066965 -0.11642525  0.23161356]\n",
            " [ 2.12285398 -0.21085488  0.15351589]\n",
            " [ 2.3875644   0.46251925 -0.45202396]\n",
            " [ 2.84096093  0.37274259 -0.50103154]\n",
            " [ 3.2323429   1.37052404 -0.11844878]\n",
            " [ 2.15873837 -0.21832553  0.20842198]\n",
            " [ 1.4431026  -0.14380129 -0.15408297]\n",
            " [ 1.77964011 -0.50146479 -0.17581119]\n",
            " [ 3.07652162  0.68576444 -0.33642274]\n",
            " [ 2.14498686  0.13890661  0.73418474]\n",
            " [ 1.90486293  0.04804751  0.16047063]\n",
            " [ 1.16885347 -0.1645025   0.28246088]\n",
            " [ 2.10765373  0.37148225  0.02743786]\n",
            " [ 2.31430339  0.18260885  0.3228604 ]\n",
            " [ 1.92245088  0.40927118  0.11549282]\n",
            " [ 1.41407223 -0.57492506  0.29639822]\n",
            " [ 2.56332271  0.2759745   0.29125361]\n",
            " [ 2.41939122  0.30350394  0.50430252]\n",
            " [ 1.94401705  0.18741522  0.17930287]\n",
            " [ 1.52566363 -0.37502085 -0.12063644]\n",
            " [ 1.76404594  0.07851919  0.13078405]\n",
            " [ 1.90162908  0.11587675  0.72287356]\n",
            " [ 1.38966613 -0.28288671  0.36231783]]\n"
          ],
          "name": "stdout"
        }
      ]
    },
    {
      "cell_type": "markdown",
      "metadata": {
        "id": "kMOVJ8gE8FYz",
        "colab_type": "text"
      },
      "source": [
        "##Plotting the 3D graph"
      ]
    },
    {
      "cell_type": "code",
      "metadata": {
        "id": "jb5pAUFnSdV6",
        "colab_type": "code",
        "colab": {}
      },
      "source": [
        "my_cmap = matplotlib.colors.LinearSegmentedColormap.from_list(\"\",[\"red\",\"blue\",\"green\"])"
      ],
      "execution_count": 0,
      "outputs": []
    },
    {
      "cell_type": "code",
      "metadata": {
        "id": "Vs6YfFFlCimw",
        "colab_type": "code",
        "outputId": "b547f60c-4415-4b9e-80f3-4226638eb38a",
        "colab": {
          "base_uri": "https://localhost:8080/",
          "height": 319
        }
      },
      "source": [
        "fig = plt.figure(figsize=(10,4))\n",
        "ax = Axes3D(fig,rect=[0,0,0.95,1],azim=134,elev=48)\n",
        "\n",
        "for name,label in [('Iris-setosa',0),('Iris-versicolor',1),('Iris-virginica',2)]:  \n",
        "  ax.text3D(X_tran[Y==label,0].mean(),\n",
        "            X_tran[Y==label,1].mean() + 1.5,\n",
        "            X_tran[Y==label,2].mean(),name,\n",
        "  horizontalalignment='center',\n",
        "  bbox = dict(alpha=0.5,edgecolor='w',facecolor='w'))\n",
        "  \n",
        "Y_final = np.choose(Y,[1,2,0]).astype(np.float)\n",
        "\n",
        "ax.scatter(X_tran[:,0],X_tran[:,1],X_tran[:,2],c=Y_final,cmap=my_cmap) # plt.cm.nipy_spectral\n",
        "\n",
        "ax.w_xaxis.set_ticklabels([])\n",
        "ax.w_yaxis.set_ticklabels([])\n",
        "ax.w_zaxis.set_ticklabels([])\n",
        "\n",
        "plt.show()\n"
      ],
      "execution_count": 20,
      "outputs": [
        {
          "output_type": "display_data",
          "data": {
            "image/png": "[encoded data removed]",
            "text/plain": [
              "<Figure size 720x288 with 1 Axes>"
            ]
          },
          "metadata": {
            "tags": []
          }
        }
      ]
    },
    {
      "cell_type": "markdown",
      "metadata": {
        "id": "BP8SKBOS8iT5",
        "colab_type": "text"
      },
      "source": [
        "## Plotting the 2D graph"
      ]
    },
    {
      "cell_type": "code",
      "metadata": {
        "id": "se6QyibRgfz_",
        "colab_type": "code",
        "colab": {
          "base_uri": "https://localhost:8080/",
          "height": 35
        },
        "outputId": "6f6dba1b-8074-4007-b489-c7c2ba7291ff"
      },
      "source": [
        "data['Species'].unique()"
      ],
      "execution_count": 28,
      "outputs": [
        {
          "output_type": "execute_result",
          "data": {
            "text/plain": [
              "array(['Iris-setosa', 'Iris-versicolor', 'Iris-virginica'], dtype=object)"
            ]
          },
          "metadata": {
            "tags": []
          },
          "execution_count": 28
        }
      ]
    },
    {
      "cell_type": "code",
      "metadata": {
        "id": "ES4VY8moT7h5",
        "colab_type": "code",
        "colab": {
          "base_uri": "https://localhost:8080/",
          "height": 287
        },
        "outputId": "74ae77cb-c089-4e8c-d4fd-d72d45dcc5f8"
      },
      "source": [
        "formatter = plt.FuncFormatter(lambda i, *args: data['Species'].unique()[int(i)])\n",
        "plt.scatter(X_tran[:,0],X_tran[:,1],c=Y,cmap=my_cmap)\n",
        "plt.colorbar(ticks=[0,1,2],format=formatter)\n",
        "plt.show()\n"
      ],
      "execution_count": 33,
      "outputs": [
        {
          "output_type": "display_data",
          "data": {
            "image/png": "[encoded data removed]",
            "text/plain": [
              "<Figure size 432x288 with 2 Axes>"
            ]
          },
          "metadata": {
            "tags": []
          }
        },
        {
          "output_type": "execute_result",
          "data": {
            "text/plain": [
              "<matplotlib.ticker.FuncFormatter at 0x7fce7c977a58>"
            ]
          },
          "metadata": {
            "tags": []
          },
          "execution_count": 33
        }
      ]
    }
  ]
}